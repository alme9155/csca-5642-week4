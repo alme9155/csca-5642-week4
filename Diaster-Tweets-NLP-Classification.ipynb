{
 "cells": [
  {
   "cell_type": "markdown",
   "id": "e5a5122b",
   "metadata": {
    "papermill": {
     "duration": 0.002427,
     "end_time": "2025-07-04T08:20:03.852987",
     "exception": false,
     "start_time": "2025-07-04T08:20:03.850560",
     "status": "completed"
    },
    "tags": []
   },
   "source": [
    "# CSCA-5642: Diaster Tweet NLP classificatiom #\n",
    "#### Develop an NLP machine learning model that predicts which Tweets are about real disasters and which one’s aren’t. ####\n",
    "    \n",
    "* Author: Alexander Meau  \n",
    "* Email: alme9155@colorado.edu  \n",
    "* GitHub: [https://github.com/alme9155/csca-5642-week4/tree/main](https://github.com/alme9155/csca-5642-week4/tree/main)  \n"
   ]
  },
  {
   "cell_type": "code",
   "execution_count": 1,
   "id": "14d72116",
   "metadata": {
    "_cell_guid": "b1076dfc-b9ad-4769-8c92-a6c4dae69d19",
    "_uuid": "8f2839f25d086af736a60e9eeb907d3b93b6e0e5",
    "execution": {
     "iopub.execute_input": "2025-07-04T08:20:03.859371Z",
     "iopub.status.busy": "2025-07-04T08:20:03.858269Z",
     "iopub.status.idle": "2025-07-04T08:20:06.123928Z",
     "shell.execute_reply": "2025-07-04T08:20:06.122497Z"
    },
    "papermill": {
     "duration": 2.271133,
     "end_time": "2025-07-04T08:20:06.126016",
     "exception": false,
     "start_time": "2025-07-04T08:20:03.854883",
     "status": "completed"
    },
    "tags": []
   },
   "outputs": [
    {
     "name": "stdout",
     "output_type": "stream",
     "text": [
      "/kaggle/input/nlp-getting-started/sample_submission.csv\n",
      "/kaggle/input/nlp-getting-started/train.csv\n",
      "/kaggle/input/nlp-getting-started/test.csv\n"
     ]
    }
   ],
   "source": [
    "# This Python 3 environment comes with many helpful analytics libraries installed\n",
    "# It is defined by the kaggle/python Docker image: https://github.com/kaggle/docker-python\n",
    "# For example, here's several helpful packages to load\n",
    "\n",
    "import numpy as np # linear algebra\n",
    "import pandas as pd # data processing, CSV file I/O (e.g. pd.read_csv)\n",
    "\n",
    "# Input data files are available in the read-only \"../input/\" directory\n",
    "# For example, running this (by clicking run or pressing Shift+Enter) will list all files under the input directory\n",
    "\n",
    "import os\n",
    "for dirname, _, filenames in os.walk('/kaggle/input'):\n",
    "    for filename in filenames:\n",
    "        print(os.path.join(dirname, filename))\n",
    "\n",
    "# You can write up to 20GB to the current directory (/kaggle/working/) that gets preserved as output when you create a version using \"Save & Run All\" \n",
    "# You can also write temporary files to /kaggle/temp/, but they won't be saved outside of the current session"
   ]
  }
 ],
 "metadata": {
  "kaggle": {
   "accelerator": "none",
   "dataSources": [
    {
     "databundleVersionId": 869809,
     "sourceId": 17777,
     "sourceType": "competition"
    }
   ],
   "dockerImageVersionId": 31040,
   "isGpuEnabled": false,
   "isInternetEnabled": true,
   "language": "python",
   "sourceType": "notebook"
  },
  "kernelspec": {
   "display_name": "Python 3",
   "language": "python",
   "name": "python3"
  },
  "language_info": {
   "codemirror_mode": {
    "name": "ipython",
    "version": 3
   },
   "file_extension": ".py",
   "mimetype": "text/x-python",
   "name": "python",
   "nbconvert_exporter": "python",
   "pygments_lexer": "ipython3",
   "version": "3.11.11"
  },
  "papermill": {
   "default_parameters": {},
   "duration": 8.474846,
   "end_time": "2025-07-04T08:20:06.750808",
   "environment_variables": {},
   "exception": null,
   "input_path": "__notebook__.ipynb",
   "output_path": "__notebook__.ipynb",
   "parameters": {},
   "start_time": "2025-07-04T08:19:58.275962",
   "version": "2.6.0"
  }
 },
 "nbformat": 4,
 "nbformat_minor": 5
}
