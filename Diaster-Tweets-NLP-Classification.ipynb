{
 "cells": [
  {
   "cell_type": "markdown",
   "id": "871d0339",
   "metadata": {
    "papermill": {
     "duration": 0.003093,
     "end_time": "2025-07-04T08:26:32.628747",
     "exception": false,
     "start_time": "2025-07-04T08:26:32.625654",
     "status": "completed"
    },
    "tags": []
   },
   "source": [
    "# CSCA-5642: Diaster Tweet NLP classificatiom #\n",
    "#### Develop an NLP machine learning model that predicts which Tweets are about real disasters and which one’s aren’t. ####\n",
    "    \n",
    "* Author: Alexander Meau  \n",
    "* Email: alme9155@colorado.edu  \n",
    "* GitHub: [https://github.com/alme9155/csca-5642-week4/tree/main](https://github.com/alme9155/csca-5642-week4/tree/main)  \n"
   ]
  },
  {
   "cell_type": "code",
   "execution_count": 1,
   "id": "8be298d7",
   "metadata": {
    "_cell_guid": "b1076dfc-b9ad-4769-8c92-a6c4dae69d19",
    "_uuid": "8f2839f25d086af736a60e9eeb907d3b93b6e0e5",
    "execution": {
     "iopub.execute_input": "2025-07-04T08:26:32.635693Z",
     "iopub.status.busy": "2025-07-04T08:26:32.635258Z",
     "iopub.status.idle": "2025-07-04T08:26:34.686652Z",
     "shell.execute_reply": "2025-07-04T08:26:34.685579Z"
    },
    "papermill": {
     "duration": 2.056853,
     "end_time": "2025-07-04T08:26:34.688519",
     "exception": false,
     "start_time": "2025-07-04T08:26:32.631666",
     "status": "completed"
    },
    "tags": []
   },
   "outputs": [
    {
     "name": "stdout",
     "output_type": "stream",
     "text": [
      "/kaggle/input/nlp-getting-started/sample_submission.csv\n",
      "/kaggle/input/nlp-getting-started/train.csv\n",
      "/kaggle/input/nlp-getting-started/test.csv\n"
     ]
    }
   ],
   "source": [
    "# This Python 3 environment comes with many helpful analytics libraries installed\n",
    "# It is defined by the kaggle/python Docker image: https://github.com/kaggle/docker-python\n",
    "# For example, here's several helpful packages to load\n",
    "\n",
    "import numpy as np # linear algebra\n",
    "import pandas as pd # data processing, CSV file I/O (e.g. pd.read_csv)\n",
    "\n",
    "# Input data files are available in the read-only \"../input/\" directory\n",
    "# For example, running this (by clicking run or pressing Shift+Enter) will list all files under the input directory\n",
    "\n",
    "import os\n",
    "for dirname, _, filenames in os.walk('/kaggle/input'):\n",
    "    for filename in filenames:\n",
    "        print(os.path.join(dirname, filename))\n",
    "\n",
    "# You can write up to 20GB to the current directory (/kaggle/working/) that gets preserved as output when you create a version using \"Save & Run All\" \n",
    "# You can also write temporary files to /kaggle/temp/, but they won't be saved outside of the current session"
   ]
  },
  {
   "cell_type": "markdown",
   "id": "d2041c25",
   "metadata": {
    "papermill": {
     "duration": 0.002933,
     "end_time": "2025-07-04T08:26:34.694323",
     "exception": false,
     "start_time": "2025-07-04T08:26:34.691390",
     "status": "completed"
    },
    "tags": []
   },
   "source": [
    "Brief description of the problem and data (5 pts)\n",
    "\n",
    "Briefly describe the challenge problem and NLP. Describe the size, dimension, structure, etc., of the data. "
   ]
  },
  {
   "cell_type": "code",
   "execution_count": 2,
   "id": "5a99b806",
   "metadata": {
    "execution": {
     "iopub.execute_input": "2025-07-04T08:26:34.700870Z",
     "iopub.status.busy": "2025-07-04T08:26:34.700416Z",
     "iopub.status.idle": "2025-07-04T08:26:34.706083Z",
     "shell.execute_reply": "2025-07-04T08:26:34.705170Z"
    },
    "papermill": {
     "duration": 0.010823,
     "end_time": "2025-07-04T08:26:34.707669",
     "exception": false,
     "start_time": "2025-07-04T08:26:34.696846",
     "status": "completed"
    },
    "tags": []
   },
   "outputs": [
    {
     "name": "stdout",
     "output_type": "stream",
     "text": [
      ".\n"
     ]
    }
   ],
   "source": [
    "print('.')"
   ]
  },
  {
   "cell_type": "markdown",
   "id": "18fdb650",
   "metadata": {
    "papermill": {
     "duration": 0.002373,
     "end_time": "2025-07-04T08:26:34.712790",
     "exception": false,
     "start_time": "2025-07-04T08:26:34.710417",
     "status": "completed"
    },
    "tags": []
   },
   "source": [
    "Exploratory Data Analysis (EDA) — Inspect, Visualize and Clean the Data (15 pts)\n",
    "\n",
    "Show a few visualizations like histograms. Describe any data cleaning procedures. Based on your EDA, what is your plan of analysis? "
   ]
  },
  {
   "cell_type": "code",
   "execution_count": 3,
   "id": "dbe8d05a",
   "metadata": {
    "execution": {
     "iopub.execute_input": "2025-07-04T08:26:34.719142Z",
     "iopub.status.busy": "2025-07-04T08:26:34.718839Z",
     "iopub.status.idle": "2025-07-04T08:26:34.724110Z",
     "shell.execute_reply": "2025-07-04T08:26:34.722870Z"
    },
    "papermill": {
     "duration": 0.010443,
     "end_time": "2025-07-04T08:26:34.725772",
     "exception": false,
     "start_time": "2025-07-04T08:26:34.715329",
     "status": "completed"
    },
    "tags": []
   },
   "outputs": [
    {
     "name": "stdout",
     "output_type": "stream",
     "text": [
      ".\n"
     ]
    }
   ],
   "source": [
    "print('.')"
   ]
  },
  {
   "cell_type": "markdown",
   "id": "bacc77c3",
   "metadata": {
    "papermill": {
     "duration": 0.002555,
     "end_time": "2025-07-04T08:26:34.731424",
     "exception": false,
     "start_time": "2025-07-04T08:26:34.728869",
     "status": "completed"
    },
    "tags": []
   },
   "source": [
    "Model Architecture (25 pts)\n",
    "\n",
    "Describe your model architecture and reasoning for why you believe that specific architecture would be suitable for this problem. \n",
    "\n",
    "Since we did not learn NLP-specific techniques such as word embeddings in the lectures, we recommend looking at Kaggle tutorials, discussion boards, and code examples posted for this challenge.  You can use any resources needed, but make sure you “demonstrate” you understood by including explanations in your own words. Also importantly, please have a reference list at the end of the report.  \n",
    "\n",
    "There are many methods to process texts to matrix form (word embedding), including TF-IDF, GloVe, Word2Vec, etc. Pick a strategy and process the raw texts to word embedding. Briefly explain the method(s) and how they work in your own words.\n",
    "\n",
    "Build and train your sequential neural network model (You may use any RNN family neural network, including advanced architectures LSTM, GRU, bidirectional RNN, etc.). "
   ]
  },
  {
   "cell_type": "code",
   "execution_count": 4,
   "id": "b3390796",
   "metadata": {
    "execution": {
     "iopub.execute_input": "2025-07-04T08:26:34.737965Z",
     "iopub.status.busy": "2025-07-04T08:26:34.737643Z",
     "iopub.status.idle": "2025-07-04T08:26:34.742752Z",
     "shell.execute_reply": "2025-07-04T08:26:34.741710Z"
    },
    "papermill": {
     "duration": 0.010389,
     "end_time": "2025-07-04T08:26:34.744388",
     "exception": false,
     "start_time": "2025-07-04T08:26:34.733999",
     "status": "completed"
    },
    "tags": []
   },
   "outputs": [
    {
     "name": "stdout",
     "output_type": "stream",
     "text": [
      ".\n"
     ]
    }
   ],
   "source": [
    "print('.')"
   ]
  },
  {
   "cell_type": "markdown",
   "id": "3c6e6041",
   "metadata": {
    "papermill": {
     "duration": 0.002412,
     "end_time": "2025-07-04T08:26:34.749633",
     "exception": false,
     "start_time": "2025-07-04T08:26:34.747221",
     "status": "completed"
    },
    "tags": []
   },
   "source": [
    "Results and Analysis (35 pts)\n",
    "\n",
    "Run hyperparameter tuning, try different architectures for comparison, apply techniques to improve training or performance, and discuss what helped.\n",
    "\n",
    "Includes results with tables and figures. There is an analysis of why or why not something worked well, troubleshooting, and a hyperparameter optimization procedure summary."
   ]
  },
  {
   "cell_type": "code",
   "execution_count": 5,
   "id": "0f1bc55b",
   "metadata": {
    "execution": {
     "iopub.execute_input": "2025-07-04T08:26:34.756689Z",
     "iopub.status.busy": "2025-07-04T08:26:34.755867Z",
     "iopub.status.idle": "2025-07-04T08:26:34.761800Z",
     "shell.execute_reply": "2025-07-04T08:26:34.759850Z"
    },
    "papermill": {
     "duration": 0.011366,
     "end_time": "2025-07-04T08:26:34.763615",
     "exception": false,
     "start_time": "2025-07-04T08:26:34.752249",
     "status": "completed"
    },
    "tags": []
   },
   "outputs": [
    {
     "name": "stdout",
     "output_type": "stream",
     "text": [
      ".\n"
     ]
    }
   ],
   "source": [
    "print('.')"
   ]
  },
  {
   "cell_type": "markdown",
   "id": "ae678ac4",
   "metadata": {
    "papermill": {
     "duration": 0.002599,
     "end_time": "2025-07-04T08:26:34.769217",
     "exception": false,
     "start_time": "2025-07-04T08:26:34.766618",
     "status": "completed"
    },
    "tags": []
   },
   "source": [
    "Conclusion (15 pts)\n",
    "\n",
    "Discuss and interpret results as well as learnings and takeaways. What did and did not help improve the performance of your models? What improvements could you try in the future?"
   ]
  },
  {
   "cell_type": "code",
   "execution_count": 6,
   "id": "33ca7e9a",
   "metadata": {
    "execution": {
     "iopub.execute_input": "2025-07-04T08:26:34.775933Z",
     "iopub.status.busy": "2025-07-04T08:26:34.775640Z",
     "iopub.status.idle": "2025-07-04T08:26:34.780723Z",
     "shell.execute_reply": "2025-07-04T08:26:34.779742Z"
    },
    "papermill": {
     "duration": 0.010122,
     "end_time": "2025-07-04T08:26:34.782144",
     "exception": false,
     "start_time": "2025-07-04T08:26:34.772022",
     "status": "completed"
    },
    "tags": []
   },
   "outputs": [
    {
     "name": "stdout",
     "output_type": "stream",
     "text": [
      ".\n"
     ]
    }
   ],
   "source": [
    "print('.')"
   ]
  }
 ],
 "metadata": {
  "kaggle": {
   "accelerator": "none",
   "dataSources": [
    {
     "databundleVersionId": 869809,
     "sourceId": 17777,
     "sourceType": "competition"
    }
   ],
   "dockerImageVersionId": 31040,
   "isGpuEnabled": false,
   "isInternetEnabled": true,
   "language": "python",
   "sourceType": "notebook"
  },
  "kernelspec": {
   "display_name": "Python 3",
   "language": "python",
   "name": "python3"
  },
  "language_info": {
   "codemirror_mode": {
    "name": "ipython",
    "version": 3
   },
   "file_extension": ".py",
   "mimetype": "text/x-python",
   "name": "python",
   "nbconvert_exporter": "python",
   "pygments_lexer": "ipython3",
   "version": "3.11.11"
  },
  "papermill": {
   "default_parameters": {},
   "duration": 7.701373,
   "end_time": "2025-07-04T08:26:35.305559",
   "environment_variables": {},
   "exception": null,
   "input_path": "__notebook__.ipynb",
   "output_path": "__notebook__.ipynb",
   "parameters": {},
   "start_time": "2025-07-04T08:26:27.604186",
   "version": "2.6.0"
  }
 },
 "nbformat": 4,
 "nbformat_minor": 5
}
